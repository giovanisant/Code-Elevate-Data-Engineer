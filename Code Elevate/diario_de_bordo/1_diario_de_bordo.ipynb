{
 "cells": [
  {
   "cell_type": "markdown",
   "metadata": {},
   "source": [
    "# Diário de Bordo"
   ]
  },
  {
   "cell_type": "code",
   "execution_count": 2,
   "metadata": {},
   "outputs": [
    {
     "data": {
      "text/html": [
       "<div>\n",
       "<style scoped>\n",
       "    .dataframe tbody tr th:only-of-type {\n",
       "        vertical-align: middle;\n",
       "    }\n",
       "\n",
       "    .dataframe tbody tr th {\n",
       "        vertical-align: top;\n",
       "    }\n",
       "\n",
       "    .dataframe thead th {\n",
       "        text-align: right;\n",
       "    }\n",
       "</style>\n",
       "<table border=\"1\" class=\"dataframe\">\n",
       "  <thead>\n",
       "    <tr style=\"text-align: right;\">\n",
       "      <th></th>\n",
       "      <th>DATA_INICIO</th>\n",
       "      <th>DATA_FIM</th>\n",
       "      <th>CATEGORIA</th>\n",
       "      <th>LOCAL_INICIO</th>\n",
       "      <th>LOCAL_FIM</th>\n",
       "      <th>DISTANCIA</th>\n",
       "      <th>PROPOSITO</th>\n",
       "    </tr>\n",
       "  </thead>\n",
       "  <tbody>\n",
       "    <tr>\n",
       "      <th>0</th>\n",
       "      <td>01-01-2016 21:11</td>\n",
       "      <td>01-01-2016 21:17</td>\n",
       "      <td>Negocio</td>\n",
       "      <td>Fort Pierce</td>\n",
       "      <td>Fort Pierce</td>\n",
       "      <td>51</td>\n",
       "      <td>Alimentação</td>\n",
       "    </tr>\n",
       "    <tr>\n",
       "      <th>1</th>\n",
       "      <td>01-02-2016 01:25</td>\n",
       "      <td>01-02-2016 01:37</td>\n",
       "      <td>Negocio</td>\n",
       "      <td>Fort Pierce</td>\n",
       "      <td>Fort Pierce</td>\n",
       "      <td>5</td>\n",
       "      <td>NaN</td>\n",
       "    </tr>\n",
       "    <tr>\n",
       "      <th>2</th>\n",
       "      <td>01-02-2016 20:25</td>\n",
       "      <td>01-02-2016 20:38</td>\n",
       "      <td>Negocio</td>\n",
       "      <td>Fort Pierce</td>\n",
       "      <td>Fort Pierce</td>\n",
       "      <td>48</td>\n",
       "      <td>Entregas</td>\n",
       "    </tr>\n",
       "    <tr>\n",
       "      <th>3</th>\n",
       "      <td>01-05-2016 17:31</td>\n",
       "      <td>01-05-2016 17:45</td>\n",
       "      <td>Negocio</td>\n",
       "      <td>Fort Pierce</td>\n",
       "      <td>Fort Pierce</td>\n",
       "      <td>47</td>\n",
       "      <td>Reunião</td>\n",
       "    </tr>\n",
       "    <tr>\n",
       "      <th>4</th>\n",
       "      <td>01-06-2016 14:42</td>\n",
       "      <td>01-06-2016 15:49</td>\n",
       "      <td>Negocio</td>\n",
       "      <td>Fort Pierce</td>\n",
       "      <td>West Palm Beach</td>\n",
       "      <td>637</td>\n",
       "      <td>Visita ao cliente</td>\n",
       "    </tr>\n",
       "  </tbody>\n",
       "</table>\n",
       "</div>"
      ],
      "text/plain": [
       "        DATA_INICIO          DATA_FIM CATEGORIA LOCAL_INICIO        LOCAL_FIM  \\\n",
       "0  01-01-2016 21:11  01-01-2016 21:17   Negocio  Fort Pierce      Fort Pierce   \n",
       "1  01-02-2016 01:25  01-02-2016 01:37   Negocio  Fort Pierce      Fort Pierce   \n",
       "2  01-02-2016 20:25  01-02-2016 20:38   Negocio  Fort Pierce      Fort Pierce   \n",
       "3  01-05-2016 17:31  01-05-2016 17:45   Negocio  Fort Pierce      Fort Pierce   \n",
       "4  01-06-2016 14:42  01-06-2016 15:49   Negocio  Fort Pierce  West Palm Beach   \n",
       "\n",
       "   DISTANCIA          PROPOSITO  \n",
       "0         51        Alimentação  \n",
       "1          5                NaN  \n",
       "2         48           Entregas  \n",
       "3         47            Reunião  \n",
       "4        637  Visita ao cliente  "
      ]
     },
     "execution_count": 2,
     "metadata": {},
     "output_type": "execute_result"
    }
   ],
   "source": [
    "import pandas as pd\n",
    "\n",
    "# Lendo o arquivo csv com o delimitador ';'\n",
    "info_transportes = pd.read_csv('info_transportes.csv', delimiter=';')\n",
    "\n",
    "info_transportes.head()"
   ]
  },
  {
   "cell_type": "code",
   "execution_count": 3,
   "metadata": {},
   "outputs": [
    {
     "name": "stdout",
     "output_type": "stream",
     "text": [
      "<class 'pandas.core.frame.DataFrame'>\n",
      "RangeIndex: 1153 entries, 0 to 1152\n",
      "Data columns (total 7 columns):\n",
      " #   Column        Non-Null Count  Dtype \n",
      "---  ------        --------------  ----- \n",
      " 0   DATA_INICIO   1153 non-null   object\n",
      " 1   DATA_FIM      1153 non-null   object\n",
      " 2   CATEGORIA     1153 non-null   object\n",
      " 3   LOCAL_INICIO  1153 non-null   object\n",
      " 4   LOCAL_FIM     1153 non-null   object\n",
      " 5   DISTANCIA     1153 non-null   int64 \n",
      " 6   PROPOSITO     651 non-null    object\n",
      "dtypes: int64(1), object(6)\n",
      "memory usage: 63.2+ KB\n"
     ]
    },
    {
     "data": {
      "text/plain": [
       "DATA_INICIO       0\n",
       "DATA_FIM          0\n",
       "CATEGORIA         0\n",
       "LOCAL_INICIO      0\n",
       "LOCAL_FIM         0\n",
       "DISTANCIA         0\n",
       "PROPOSITO       502\n",
       "dtype: int64"
      ]
     },
     "execution_count": 3,
     "metadata": {},
     "output_type": "execute_result"
    }
   ],
   "source": [
    "#Verificando mais informações sobre o df\n",
    "info_transportes.info()\n",
    "info_transportes.isnull().sum()"
   ]
  },
  {
   "cell_type": "code",
   "execution_count": 4,
   "metadata": {},
   "outputs": [],
   "source": [
    "#Transformando as colunas DATA_INICIO e DATA_FIM em datetime\n",
    "info_transportes['DATA_INICIO'] = pd.to_datetime(info_transportes['DATA_INICIO'], format='%m-%d-%Y %H:%M')\n",
    "info_transportes['DATA_FIM'] = pd.to_datetime(info_transportes['DATA_FIM'], format='%m-%d-%Y %H:%M')\n",
    "\n",
    "#Transformando as colunas DATA_INICIO e DATA_FIM para o formato yyyy-MM-dd\n",
    "info_transportes['DATA_INICIO'] = info_transportes['DATA_INICIO'].dt.strftime('%Y-%m-%d')\n",
    "info_transportes['DATA_FIM'] = info_transportes['DATA_FIM'].dt.strftime('%Y-%m-%d')\n",
    "\n",
    "info_transportes['DATA_INICIO'] = pd.to_datetime(info_transportes['DATA_INICIO'])\n",
    "info_transportes['DATA_FIM'] = pd.to_datetime(info_transportes['DATA_FIM'])\n"
   ]
  },
  {
   "cell_type": "markdown",
   "metadata": {},
   "source": [
    "## Criando o dataframe 'info_corridas_do_dia'"
   ]
  },
  {
   "cell_type": "code",
   "execution_count": 5,
   "metadata": {},
   "outputs": [
    {
     "data": {
      "text/html": [
       "<div>\n",
       "<style scoped>\n",
       "    .dataframe tbody tr th:only-of-type {\n",
       "        vertical-align: middle;\n",
       "    }\n",
       "\n",
       "    .dataframe tbody tr th {\n",
       "        vertical-align: top;\n",
       "    }\n",
       "\n",
       "    .dataframe thead th {\n",
       "        text-align: right;\n",
       "    }\n",
       "</style>\n",
       "<table border=\"1\" class=\"dataframe\">\n",
       "  <thead>\n",
       "    <tr style=\"text-align: right;\">\n",
       "      <th></th>\n",
       "      <th>DT_REFE</th>\n",
       "      <th>QT_CORRIDAS</th>\n",
       "    </tr>\n",
       "  </thead>\n",
       "  <tbody>\n",
       "    <tr>\n",
       "      <th>0</th>\n",
       "      <td>2016-01-01</td>\n",
       "      <td>1</td>\n",
       "    </tr>\n",
       "    <tr>\n",
       "      <th>1</th>\n",
       "      <td>2016-01-02</td>\n",
       "      <td>2</td>\n",
       "    </tr>\n",
       "    <tr>\n",
       "      <th>2</th>\n",
       "      <td>2016-01-05</td>\n",
       "      <td>1</td>\n",
       "    </tr>\n",
       "    <tr>\n",
       "      <th>3</th>\n",
       "      <td>2016-01-06</td>\n",
       "      <td>3</td>\n",
       "    </tr>\n",
       "    <tr>\n",
       "      <th>4</th>\n",
       "      <td>2016-01-07</td>\n",
       "      <td>1</td>\n",
       "    </tr>\n",
       "  </tbody>\n",
       "</table>\n",
       "</div>"
      ],
      "text/plain": [
       "     DT_REFE  QT_CORRIDAS\n",
       "0 2016-01-01            1\n",
       "1 2016-01-02            2\n",
       "2 2016-01-05            1\n",
       "3 2016-01-06            3\n",
       "4 2016-01-07            1"
      ]
     },
     "execution_count": 5,
     "metadata": {},
     "output_type": "execute_result"
    }
   ],
   "source": [
    "#Criando o novo dataframe com a quantidade de corridas por dia\n",
    "info_corridas_do_dia = info_transportes.groupby('DATA_INICIO').size().reset_index(name='QT_CORRIDAS').astype({'QT_CORRIDAS': 'int32'})\n",
    "\n",
    "info_corridas_do_dia = info_corridas_do_dia.rename(columns={'DATA_INICIO': 'DT_REFE'})\n",
    "\n",
    "info_corridas_do_dia.head()"
   ]
  },
  {
   "cell_type": "code",
   "execution_count": 6,
   "metadata": {},
   "outputs": [],
   "source": [
    "#Corridas da categoria \"Negocio\"\n",
    "\n",
    "df = info_transportes[info_transportes['CATEGORIA'] == 'Negocio'].groupby('DATA_INICIO').size().reset_index(name='QT_CORR_NEG').astype({'QT_CORR_NEG': 'int32'})\n",
    "df = df.rename(columns={'DATA_INICIO': 'DT_REFE'})\n",
    "\n",
    "info_corridas_do_dia = pd.merge(info_corridas_do_dia, df, on='DT_REFE', how='left')\n",
    "\n",
    "#Preenchendo os valores nulos com 0\n",
    "info_corridas_do_dia['QT_CORR_NEG'] = info_corridas_do_dia['QT_CORR_NEG'].fillna(0).astype(int)"
   ]
  },
  {
   "cell_type": "code",
   "execution_count": 7,
   "metadata": {},
   "outputs": [],
   "source": [
    "#Corridas da categoria \"Pessoal\"\n",
    "\n",
    "df = info_transportes[info_transportes['CATEGORIA'] == 'Pessoal'].groupby('DATA_INICIO').size().reset_index(name='QT_CORR_PESS').astype({'QT_CORR_PESS': 'int32'})\n",
    "df = df.rename(columns={'DATA_INICIO': 'DT_REFE'}) \n",
    "\n",
    "info_corridas_do_dia = pd.merge(info_corridas_do_dia, df, on='DT_REFE', how='left')\n",
    "\n",
    "#Preenchendo os valores nulos com 0\n",
    "info_corridas_do_dia['QT_CORR_PESS'] = info_corridas_do_dia['QT_CORR_PESS'].fillna(0).astype(int)"
   ]
  },
  {
   "cell_type": "code",
   "execution_count": 8,
   "metadata": {},
   "outputs": [],
   "source": [
    "#Maior distancia percorrida por uma corrida\n",
    "\n",
    "df = info_transportes.groupby('DATA_INICIO')['DISTANCIA'].max().reset_index(name='VL_MAX_DIST').astype({'VL_MAX_DIST': 'float32'})\n",
    "df = df.rename(columns={'DATA_INICIO': 'DT_REFE'})\n",
    "\n",
    "info_corridas_do_dia = pd.merge(info_corridas_do_dia, df, on='DT_REFE', how='left')"
   ]
  },
  {
   "cell_type": "code",
   "execution_count": 9,
   "metadata": {},
   "outputs": [],
   "source": [
    "#Menor distancia percorrida por uma corrida\n",
    "\n",
    "df = info_transportes.groupby('DATA_INICIO')['DISTANCIA'].min().reset_index(name='VL_MIN_DIST').astype({'VL_MIN_DIST': 'float32'})\n",
    "df = df.rename(columns={'DATA_INICIO': 'DT_REFE'})\n",
    "\n",
    "info_corridas_do_dia = pd.merge(info_corridas_do_dia, df, on='DT_REFE', how='left')"
   ]
  },
  {
   "cell_type": "code",
   "execution_count": 10,
   "metadata": {},
   "outputs": [],
   "source": [
    "#Média das distancias percorridas\n",
    "\n",
    "df = info_transportes.groupby('DATA_INICIO')['DISTANCIA'].mean().reset_index(name='VL_AVG_DIST').astype({'VL_AVG_DIST': 'float32'})\n",
    "df = df.rename(columns={'DATA_INICIO': 'DT_REFE'})\n",
    "\n",
    "info_corridas_do_dia = pd.merge(info_corridas_do_dia, df, on='DT_REFE', how='left')"
   ]
  },
  {
   "cell_type": "code",
   "execution_count": 11,
   "metadata": {},
   "outputs": [],
   "source": [
    "#Quantidade de corridas com o propósito \"Reunião\"\n",
    "\n",
    "df = info_transportes[info_transportes['PROPOSITO'] == 'Reunião'].groupby('DATA_INICIO').size().reset_index(name='QT_CORR_REUNI').astype({'QT_CORR_REUNI': 'int32'})\n",
    "df = df.rename(columns={'DATA_INICIO': 'DT_REFE'})\n",
    "\n",
    "info_corridas_do_dia = pd.merge(info_corridas_do_dia, df, on='DT_REFE', how='left')\n",
    "\n",
    "#Preenchendo os valores nulos com 0\n",
    "info_corridas_do_dia['QT_CORR_REUNI'] = info_corridas_do_dia['QT_CORR_REUNI'].fillna(0).astype(int)"
   ]
  },
  {
   "cell_type": "code",
   "execution_count": 12,
   "metadata": {},
   "outputs": [],
   "source": [
    "#Quantidade de corridas com o propósito declarado e diferente de \"Reunião\"\n",
    "\n",
    "#Definindo as duas regras antes do agrupamento com notna() e diferente de \"Reunião\"\n",
    "df = info_transportes[info_transportes['PROPOSITO'].notna() & (info_transportes['PROPOSITO'] != 'Reunião')].groupby('DATA_INICIO').size().reset_index(name='QT_CORR_NAO_REUNI').astype({'QT_CORR_NAO_REUNI': 'int32'})\n",
    "df = df.rename(columns={'DATA_INICIO': 'DT_REFE'})\n",
    "\n",
    "info_corridas_do_dia = pd.merge(info_corridas_do_dia, df, on='DT_REFE', how='left')\n",
    "\n",
    "#Preenchendo os valores nulos com 0\n",
    "info_corridas_do_dia['QT_CORR_NAO_REUNI'] = info_corridas_do_dia['QT_CORR_NAO_REUNI'].fillna(0).astype(int)"
   ]
  },
  {
   "cell_type": "code",
   "execution_count": 13,
   "metadata": {},
   "outputs": [],
   "source": [
    "#Corrigindo as casas decimais\n",
    "info_corridas_do_dia['VL_AVG_DIST'] = info_corridas_do_dia['VL_AVG_DIST'].apply(lambda x: round(x, 1))\n",
    "\n",
    "#Tentei com 'info_transportes['VL_AVG_DIST'] = info_transportes['VL_AVG_DIST'].round(1)' Mas não deu certo"
   ]
  },
  {
   "cell_type": "code",
   "execution_count": 14,
   "metadata": {},
   "outputs": [],
   "source": [
    "#Salvando o DataFrame em um arquivo CSV\n",
    "info_corridas_do_dia.to_csv('info_corridas_do_dia.csv', index=False)"
   ]
  },
  {
   "cell_type": "code",
   "execution_count": 15,
   "metadata": {},
   "outputs": [
    {
     "data": {
      "text/html": [
       "<div>\n",
       "<style scoped>\n",
       "    .dataframe tbody tr th:only-of-type {\n",
       "        vertical-align: middle;\n",
       "    }\n",
       "\n",
       "    .dataframe tbody tr th {\n",
       "        vertical-align: top;\n",
       "    }\n",
       "\n",
       "    .dataframe thead th {\n",
       "        text-align: right;\n",
       "    }\n",
       "</style>\n",
       "<table border=\"1\" class=\"dataframe\">\n",
       "  <thead>\n",
       "    <tr style=\"text-align: right;\">\n",
       "      <th></th>\n",
       "      <th>DT_REFE</th>\n",
       "      <th>QT_CORRIDAS</th>\n",
       "      <th>QT_CORR_NEG</th>\n",
       "      <th>QT_CORR_PESS</th>\n",
       "      <th>VL_MAX_DIST</th>\n",
       "      <th>VL_MIN_DIST</th>\n",
       "      <th>VL_AVG_DIST</th>\n",
       "      <th>QT_CORR_REUNI</th>\n",
       "      <th>QT_CORR_NAO_REUNI</th>\n",
       "    </tr>\n",
       "  </thead>\n",
       "  <tbody>\n",
       "    <tr>\n",
       "      <th>0</th>\n",
       "      <td>2016-01-01</td>\n",
       "      <td>1</td>\n",
       "      <td>1</td>\n",
       "      <td>0</td>\n",
       "      <td>51.0</td>\n",
       "      <td>51.0</td>\n",
       "      <td>51.0</td>\n",
       "      <td>0</td>\n",
       "      <td>1</td>\n",
       "    </tr>\n",
       "    <tr>\n",
       "      <th>1</th>\n",
       "      <td>2016-01-02</td>\n",
       "      <td>2</td>\n",
       "      <td>2</td>\n",
       "      <td>0</td>\n",
       "      <td>48.0</td>\n",
       "      <td>5.0</td>\n",
       "      <td>26.5</td>\n",
       "      <td>0</td>\n",
       "      <td>1</td>\n",
       "    </tr>\n",
       "    <tr>\n",
       "      <th>2</th>\n",
       "      <td>2016-01-05</td>\n",
       "      <td>1</td>\n",
       "      <td>1</td>\n",
       "      <td>0</td>\n",
       "      <td>47.0</td>\n",
       "      <td>47.0</td>\n",
       "      <td>47.0</td>\n",
       "      <td>1</td>\n",
       "      <td>0</td>\n",
       "    </tr>\n",
       "    <tr>\n",
       "      <th>3</th>\n",
       "      <td>2016-01-06</td>\n",
       "      <td>3</td>\n",
       "      <td>3</td>\n",
       "      <td>0</td>\n",
       "      <td>637.0</td>\n",
       "      <td>43.0</td>\n",
       "      <td>250.3</td>\n",
       "      <td>1</td>\n",
       "      <td>2</td>\n",
       "    </tr>\n",
       "    <tr>\n",
       "      <th>4</th>\n",
       "      <td>2016-01-07</td>\n",
       "      <td>1</td>\n",
       "      <td>1</td>\n",
       "      <td>0</td>\n",
       "      <td>8.0</td>\n",
       "      <td>8.0</td>\n",
       "      <td>8.0</td>\n",
       "      <td>1</td>\n",
       "      <td>0</td>\n",
       "    </tr>\n",
       "  </tbody>\n",
       "</table>\n",
       "</div>"
      ],
      "text/plain": [
       "     DT_REFE  QT_CORRIDAS  QT_CORR_NEG  QT_CORR_PESS  VL_MAX_DIST  \\\n",
       "0 2016-01-01            1            1             0         51.0   \n",
       "1 2016-01-02            2            2             0         48.0   \n",
       "2 2016-01-05            1            1             0         47.0   \n",
       "3 2016-01-06            3            3             0        637.0   \n",
       "4 2016-01-07            1            1             0          8.0   \n",
       "\n",
       "   VL_MIN_DIST  VL_AVG_DIST  QT_CORR_REUNI  QT_CORR_NAO_REUNI  \n",
       "0         51.0         51.0              0                  1  \n",
       "1          5.0         26.5              0                  1  \n",
       "2         47.0         47.0              1                  0  \n",
       "3         43.0        250.3              1                  2  \n",
       "4          8.0          8.0              1                  0  "
      ]
     },
     "execution_count": 15,
     "metadata": {},
     "output_type": "execute_result"
    }
   ],
   "source": [
    "info_corridas_do_dia.head()"
   ]
  },
  {
   "cell_type": "code",
   "execution_count": 16,
   "metadata": {},
   "outputs": [],
   "source": [
    "df = pd.read_csv('info_corridas_do_dia.csv')"
   ]
  }
 ],
 "metadata": {
  "kernelspec": {
   "display_name": "Python 3",
   "language": "python",
   "name": "python3"
  },
  "language_info": {
   "codemirror_mode": {
    "name": "ipython",
    "version": 3
   },
   "file_extension": ".py",
   "mimetype": "text/x-python",
   "name": "python",
   "nbconvert_exporter": "python",
   "pygments_lexer": "ipython3",
   "version": "3.11.9"
  }
 },
 "nbformat": 4,
 "nbformat_minor": 2
}
